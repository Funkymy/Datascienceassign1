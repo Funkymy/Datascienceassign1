{
 "cells": [
  {
   "cell_type": "markdown",
   "id": "ead6692c-2c4a-49fc-920e-e33b10547ec2",
   "metadata": {},
   "source": []
  },
  {
   "cell_type": "markdown",
   "id": "9269346d-687d-43cf-8ffe-50168245afe8",
   "metadata": {},
   "source": [
    "# Data Science Tools and Ecosystem"
   ]
  },
  {
   "cell_type": "markdown",
   "id": "0abf959f-91b9-4ed0-bd4f-dcf746d6c6b8",
   "metadata": {},
   "source": [
    "In this notebook, Data Science Tools and Ecosystem are summarized."
   ]
  },
  {
   "cell_type": "markdown",
   "id": "48b1c0fe-8984-4699-ad62-fb0f4ee41aeb",
   "metadata": {},
   "source": [
    "Some of the popular languages that Data Scientists use are:\n",
    "\n",
    "1. Python\n",
    "2. R\n",
    "3. SQL\n",
    "4. Java"
   ]
  },
  {
   "cell_type": "markdown",
   "id": "b7cc7afe-0e12-454f-8adf-879aa5906f22",
   "metadata": {},
   "source": [
    "Some of the commonly used libraries used by Data Scientists include:\n",
    "\n",
    "1. NumPy\n",
    "2. Pandas\n",
    "3. Plotly"
   ]
  },
  {
   "cell_type": "markdown",
   "id": "0ce16031-3e44-4d12-8948-ae6e72c25e66",
   "metadata": {},
   "source": [
    "|Data Science Tools|\n",
    "|------------------|\n",
    "|Visual Studio Code|\n",
    "|Rstudio|\n",
    "|Jupyter Notebook|"
   ]
  },
  {
   "cell_type": "markdown",
   "id": "d2010e3a-7bd5-4e9b-8f00-d6ba445837a5",
   "metadata": {},
   "source": [
    "### Below are a few examples of evaluating arithmetic expressions in Python"
   ]
  },
  {
   "cell_type": "code",
   "execution_count": 2,
   "id": "fa1dc728-81a7-469c-b84b-31a60d9d5cde",
   "metadata": {},
   "outputs": [
    {
     "data": {
      "text/plain": [
       "17"
      ]
     },
     "execution_count": 2,
     "metadata": {},
     "output_type": "execute_result"
    }
   ],
   "source": [
    "(3*4)+5"
   ]
  },
  {
   "cell_type": "markdown",
   "id": "8ef31b3f-7c7e-4770-acbc-1b08de822746",
   "metadata": {},
   "source": [
    "This will convert 200 minutes to hours by diving by 60"
   ]
  },
  {
   "cell_type": "code",
   "execution_count": 6,
   "id": "6710776a-8751-4267-a5af-784548444418",
   "metadata": {},
   "outputs": [
    {
     "data": {
      "text/plain": [
       "3.3333333333333335"
      ]
     },
     "execution_count": 6,
     "metadata": {},
     "output_type": "execute_result"
    }
   ],
   "source": [
    "(200/60)"
   ]
  },
  {
   "cell_type": "markdown",
   "id": "fc5e83b6-f0bf-4ad3-97f9-0ef279324541",
   "metadata": {},
   "source": [
    "We have 3.333335 hours in 200 minutes"
   ]
  },
  {
   "cell_type": "markdown",
   "id": "56be6aab-f980-4c27-9d6e-1bef4cec156f",
   "metadata": {},
   "source": [
    "**Objectives**\n",
    "\n",
    "- List popular languages for Data Science\n",
    "- Commonly used libraries used by Data Scientists\n",
    "- Data Science Tools"
   ]
  },
  {
   "cell_type": "markdown",
   "id": "ab5a2ca1-bb2f-4e93-8f3b-431070315f8c",
   "metadata": {},
   "source": [
    "## Author\n",
    "Funmi Ogunbiyi"
   ]
  },
  {
   "cell_type": "code",
   "execution_count": null,
   "id": "fa4487f2-b059-4652-ae22-643cd1f9c960",
   "metadata": {},
   "outputs": [],
   "source": []
  }
 ],
 "metadata": {
  "kernelspec": {
   "display_name": "Python 3 (ipykernel)",
   "language": "python",
   "name": "python3"
  },
  "language_info": {
   "codemirror_mode": {
    "name": "ipython",
    "version": 3
   },
   "file_extension": ".py",
   "mimetype": "text/x-python",
   "name": "python",
   "nbconvert_exporter": "python",
   "pygments_lexer": "ipython3",
   "version": "3.11.7"
  }
 },
 "nbformat": 4,
 "nbformat_minor": 5
}
